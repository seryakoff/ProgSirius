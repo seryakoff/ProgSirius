{
  "nbformat": 4,
  "nbformat_minor": 0,
  "metadata": {
    "colab": {
      "provenance": [],
      "collapsed_sections": [
        "Qg4_kH-z_jVZ",
        "a6YF22lQPvsy",
        "j9JFaO0F_ogj",
        "0mVNolY1_ql_",
        "y9ltM_Bq_s90"
      ],
      "include_colab_link": true
    },
    "kernelspec": {
      "name": "python3",
      "display_name": "Python 3"
    },
    "language_info": {
      "name": "python"
    }
  },
  "cells": [
    {
      "cell_type": "markdown",
      "metadata": {
        "id": "view-in-github",
        "colab_type": "text"
      },
      "source": [
        "<a href=\"https://colab.research.google.com/github/seryakoff/ProgSirius/blob/main/S3_%D0%98%D0%BD%D1%82%D1%80%D0%BE_ipynb%22.ipynb\" target=\"_parent\"><img src=\"https://colab.research.google.com/assets/colab-badge.svg\" alt=\"Open In Colab\"/></a>"
      ]
    },
    {
      "cell_type": "code",
      "execution_count": null,
      "metadata": {
        "colab": {
          "base_uri": "https://localhost:8080/"
        },
        "id": "pxQafVUR3qav",
        "outputId": "0c2cc5b7-87c9-4fd6-c717-4f362aca9d31"
      },
      "outputs": [
        {
          "output_type": "stream",
          "name": "stdout",
          "text": [
            "Python 3.10.12\n"
          ]
        }
      ],
      "source": [
        "! python -V"
      ]
    },
    {
      "cell_type": "markdown",
      "source": [
        "## Задача 1"
      ],
      "metadata": {
        "id": "Qg4_kH-z_jVZ"
      }
    },
    {
      "cell_type": "markdown",
      "source": [
        "Дано трехзначное число. Найдите сумму его цифр.\n",
        "\n",
        "Пример ввода:\n",
        "\n",
        "745\n",
        "\n",
        "Пример вывода:\n",
        "\n",
        "16"
      ],
      "metadata": {
        "id": "saGdj-kz4LN4"
      }
    },
    {
      "cell_type": "code",
      "source": [
        "abc = input('Введите трёхзначное число ')\n",
        "acc = 0;\n",
        "for i in range(len(abc)):\n",
        "#for num in abc:\n",
        " acc+=int(abc[i])\n",
        "print(acc)"
      ],
      "metadata": {
        "colab": {
          "base_uri": "https://localhost:8080/"
        },
        "id": "wqiW2VKAbTbW",
        "outputId": "5817d16e-8bd8-4f27-8424-6f8038783ea2"
      },
      "execution_count": null,
      "outputs": [
        {
          "output_type": "stream",
          "name": "stdout",
          "text": [
            "Введите трёхзначное число 745\n",
            "16\n"
          ]
        }
      ]
    },
    {
      "cell_type": "markdown",
      "source": [
        "## Задача 1*"
      ],
      "metadata": {
        "id": "a6YF22lQPvsy"
      }
    },
    {
      "cell_type": "markdown",
      "source": [
        "Дано пятизначное число. Найдите произведение его цифр.\n",
        "\n",
        "Пример ввода:\n",
        "\n",
        "14962\n",
        "\n",
        "Пример вывода:\n",
        "\n",
        "432"
      ],
      "metadata": {
        "id": "jJ2AmyrAP1xU"
      }
    },
    {
      "cell_type": "code",
      "source": [
        "abc = input('Введите пятизначное число ')\n",
        "n = len(abc)\n",
        "acc = 1;\n",
        "# for i in range(n):\n",
        "for num in abc:\n",
        " acc *= int(num)\n",
        "print(acc)"
      ],
      "metadata": {
        "id": "f4t6wb-x34EH",
        "colab": {
          "base_uri": "https://localhost:8080/"
        },
        "outputId": "e5e8c19a-cff7-4af9-818e-3eb431f77c66"
      },
      "execution_count": 6,
      "outputs": [
        {
          "output_type": "stream",
          "name": "stdout",
          "text": [
            "Введите пятизначное число 14962\n",
            "432\n"
          ]
        }
      ]
    },
    {
      "cell_type": "markdown",
      "source": [
        "## Задача 2"
      ],
      "metadata": {
        "id": "j9JFaO0F_ogj"
      }
    },
    {
      "cell_type": "markdown",
      "source": [
        "Дано трехзначное число. Переверните его, а затем выведите.\n",
        "\n",
        "Пример ввода:\n",
        "\n",
        "843\n",
        "\n",
        "Пример вывода:\n",
        "\n",
        "348"
      ],
      "metadata": {
        "id": "8a8NJ6qI4lFF"
      }
    },
    {
      "cell_type": "code",
      "source": [
        "str = input('Введите трёхзначное число ')\n",
        "print(str[::-1])"
      ],
      "metadata": {
        "id": "2WsuwOSK4xy5",
        "colab": {
          "base_uri": "https://localhost:8080/"
        },
        "outputId": "7d097acb-b237-4c21-c50d-c6f5d63ef64c"
      },
      "execution_count": 8,
      "outputs": [
        {
          "output_type": "stream",
          "name": "stdout",
          "text": [
            "Введите трёхзначное число 843\n",
            "348\n"
          ]
        }
      ]
    },
    {
      "cell_type": "markdown",
      "source": [
        "## Задача 2*"
      ],
      "metadata": {
        "id": "mYGLqVC7QvJF"
      }
    },
    {
      "cell_type": "markdown",
      "source": [
        "Дано шестизначное число. Найдите суммы его четных и нечетных элементов. Образуйте из них этих сумм одно число и выведите его на экран\n",
        "\n",
        "Пример ввода:\n",
        "\n",
        "531893\n",
        "\n",
        "Пример вывода:\n",
        "\n",
        "1514\n"
      ],
      "metadata": {
        "id": "2c4-yvnMQuEY"
      }
    },
    {
      "cell_type": "code",
      "source": [
        "str = input('Введите шестизначное число ');\n",
        "sum0 = 0\n",
        "sum1 = 0\n",
        "for i in range(len(str)):\n",
        "  if i % 2 == 0:\n",
        "    sum0 += int(str[i])\n",
        "  else:\n",
        "    sum1 += int(str[i])\n",
        "print(f\"{sum0}{sum1}\")"
      ],
      "metadata": {
        "colab": {
          "base_uri": "https://localhost:8080/"
        },
        "id": "MdYHdJR7dOjf",
        "outputId": "5d565968-e87b-401c-8b01-33b914cc474f"
      },
      "execution_count": 17,
      "outputs": [
        {
          "output_type": "stream",
          "name": "stdout",
          "text": [
            "Введите шестизначное число 531893\n",
            "1514\n"
          ]
        }
      ]
    },
    {
      "cell_type": "markdown",
      "source": [
        "## Задача 3"
      ],
      "metadata": {
        "id": "0mVNolY1_ql_"
      }
    },
    {
      "cell_type": "markdown",
      "source": [
        "Вводится натуральное число N, а затем N чисел. По данным числам, определите количество чисел, которые равны нулю.  \n",
        "\n",
        "Пример ввода:\n",
        "\n",
        "5\n",
        "\n",
        "1\n",
        "\n",
        "8\n",
        "\n",
        "100\n",
        "\n",
        "0\n",
        "\n",
        "12\n",
        "\n",
        "Пример вывода:\n",
        "\n",
        "1"
      ],
      "metadata": {
        "id": "LJpEiP7E4yYq"
      }
    },
    {
      "cell_type": "code",
      "source": [
        "n = int(input('Введите количество чисел '))\n",
        "count = 0\n",
        "for _ in range(n):\n",
        "  if int(input('Введите число ')) == 0:\n",
        "    count += 1\n",
        "print(count)"
      ],
      "metadata": {
        "id": "EQ7f8jxV4zQN",
        "colab": {
          "base_uri": "https://localhost:8080/"
        },
        "outputId": "d0571e53-36df-4d2e-f0c0-f4bb87d187aa"
      },
      "execution_count": null,
      "outputs": [
        {
          "output_type": "stream",
          "name": "stdout",
          "text": [
            "Введите количество чисел 5\n",
            "Введите число 1\n",
            "Введите число 8\n",
            "Введите число 100\n",
            "Введите число 0\n",
            "Введите число 12\n",
            "1\n"
          ]
        }
      ]
    },
    {
      "cell_type": "markdown",
      "source": [
        "## Задача 3*\n"
      ],
      "metadata": {
        "id": "TPXVlL4ZSK5_"
      }
    },
    {
      "cell_type": "markdown",
      "source": [
        "Вводится натуральное число N, а затем N чисел. Найти средее арифметическое всех чисел кратных 3. Если таких чисел нет, то вывести -1\n",
        "\n",
        "Пример ввода:\n",
        "\n",
        "6\n",
        "\n",
        "3\n",
        "\n",
        "2\n",
        "\n",
        "42\n",
        "\n",
        "5\n",
        "\n",
        "12\n",
        "\n",
        "11\n",
        "\n",
        "Пример вывода:\n",
        "\n",
        "19.0"
      ],
      "metadata": {
        "id": "n5k3zrELSOp1"
      }
    },
    {
      "cell_type": "code",
      "source": [
        "n = int(input('Введите количество чисел '))\n",
        "sum_ = 0\n",
        "count = 0\n",
        "for _ in range(n):\n",
        "  tmp = int(input('Введите число '))\n",
        "  if tmp % 3 == 0:\n",
        "    sum_ += tmp\n",
        "    count += 1\n",
        "if count == 0:\n",
        "  print(-1)\n",
        "else:\n",
        "  print(f\"{sum_ / count}\")"
      ],
      "metadata": {
        "colab": {
          "base_uri": "https://localhost:8080/"
        },
        "id": "9dPEhU1SgMEf",
        "outputId": "33c8b7e6-2512-4b1e-d280-ec46d98f0d9c"
      },
      "execution_count": 37,
      "outputs": [
        {
          "output_type": "stream",
          "name": "stdout",
          "text": [
            "Введите количество чисел 6\n",
            "Введите число 3\n",
            "Введите число 2\n",
            "Введите число 42\n",
            "Введите число 5\n",
            "Введите число 12\n",
            "Введите число 11\n",
            "19.0\n"
          ]
        }
      ]
    },
    {
      "cell_type": "markdown",
      "source": [
        "## Задача 4"
      ],
      "metadata": {
        "id": "y9ltM_Bq_s90"
      }
    },
    {
      "cell_type": "markdown",
      "source": [
        "\n",
        "Вводится натуральное число N, а затем N целых чисел последовательности.\n",
        "Найдите количество минимальных элементов в последовательности.\n",
        "\n",
        "\n",
        "Пример ввода:\n",
        "\n",
        "3\n",
        "\n",
        "21\n",
        "\n",
        "11\n",
        "\n",
        "4\n",
        "\n",
        "Пример вывода:\n",
        "\n",
        "1"
      ],
      "metadata": {
        "id": "GRb7prAo4z1e"
      }
    },
    {
      "cell_type": "code",
      "source": [
        "n = int(input('Введите количство чисел '))\n",
        "min_ = int(input('Введите число '))\n",
        "count = 1\n",
        "for _ in range(n-1):\n",
        "  tmp = int(input('Введите число '))\n",
        "  if tmp == min_:\n",
        "    count +=1\n",
        "  elif tmp < min_:\n",
        "    count = 1\n",
        "    min_ = tmp\n",
        "print(count)"
      ],
      "metadata": {
        "id": "JnE_jJIs44dh",
        "colab": {
          "base_uri": "https://localhost:8080/"
        },
        "outputId": "53579b78-d539-42e9-c71f-3bfa9f04ea79"
      },
      "execution_count": 40,
      "outputs": [
        {
          "output_type": "stream",
          "name": "stdout",
          "text": [
            "Введите количство чисел 3\n",
            "Введите число 21\n",
            "Введите число 11\n",
            "Введите число 4\n",
            "1\n"
          ]
        }
      ]
    },
    {
      "cell_type": "markdown",
      "source": [
        "## Задача 4*"
      ],
      "metadata": {
        "id": "_awBYs2LCW9t"
      }
    },
    {
      "cell_type": "markdown",
      "source": [
        "Дано натуральное число A > 1. Определите, каким по счету числом Фибоначчи оно является, то есть выведите такое число n, что $\\varphi_n=A$. Если А не является числом Фибоначчи, выведите число -1.\n",
        "\n",
        "\n",
        "Пример ввода:\n",
        "\n",
        "8\n",
        "\n",
        "Пример вывода:\n",
        "\n",
        "6"
      ],
      "metadata": {
        "id": "yIdI1xIPCj18"
      }
    },
    {
      "cell_type": "code",
      "source": [
        "a = int(input())\n",
        "\n",
        "def fibonacci(n:int) -> int:\n",
        "  f1,f2 = 0,1\n",
        "  if n == 0:\n",
        "      return 0\n",
        "  elif n == 1:\n",
        "      return 1\n",
        "  else:\n",
        "      return fibonacci(n-1) + fibonacci(n-2)\n",
        "\n",
        "\n",
        "def chek_fibonacci(number:int) -> int:\n",
        "  n=0\n",
        "  while fibonacci(n) <= number:\n",
        "    n += 1\n",
        "  if fibonacci(n-1) == number:\n",
        "    return n-1\n",
        "  else:\n",
        "    return -1\n",
        "\n",
        "print(chek_fibonacci(a))"
      ],
      "metadata": {
        "id": "ankan34-ClU-",
        "colab": {
          "base_uri": "https://localhost:8080/"
        },
        "outputId": "3297aa58-6cf7-4915-de21-5b2f31f06c1d"
      },
      "execution_count": 19,
      "outputs": [
        {
          "output_type": "stream",
          "name": "stdout",
          "text": [
            "8\n",
            "6\n"
          ]
        }
      ]
    },
    {
      "cell_type": "markdown",
      "source": [
        "## Задача 5"
      ],
      "metadata": {
        "id": "Q8rwtH9d_uoF"
      }
    },
    {
      "cell_type": "markdown",
      "source": [
        "\n",
        "\n",
        "Вводится два целых числа a и b (a$\\leq$b). Найдите самое большее число на отрезке от a до b, кратное 7.\n",
        "Если такого числа нет выведите -1.\n",
        "\n",
        "\n",
        "Пример ввода:\n",
        "\n",
        "100\n",
        "\n",
        "500\n",
        "\n",
        "Пример вывода:\n",
        "\n",
        "497"
      ],
      "metadata": {
        "id": "IbCvy02E4493"
      }
    },
    {
      "cell_type": "code",
      "source": [
        "a = int(input('Введите первое число '))\n",
        "b = int(input('Введите второе число '))\n",
        "print(b // 7 * 7 if (b // 7 * 7 > a) else '-1' )"
      ],
      "metadata": {
        "colab": {
          "base_uri": "https://localhost:8080/"
        },
        "id": "RPi6m6lduMAY",
        "outputId": "85ed1cb0-0b28-4f05-9e8b-27d71525eca7"
      },
      "execution_count": 20,
      "outputs": [
        {
          "output_type": "stream",
          "name": "stdout",
          "text": [
            "Введите первое число 100\n",
            "Введите второе число 500\n",
            "497\n"
          ]
        }
      ]
    },
    {
      "cell_type": "code",
      "source": [
        "a = int(input('Введите первое число '))\n",
        "b = int(input('Введите второе число '))\n",
        "k = 0\n",
        "for i in range(a,b+1):\n",
        "  if i % 7 == 0:\n",
        "    k = i\n",
        "if k ==0:\n",
        "  print(-1)\n",
        "else:\n",
        "  print(k)"
      ],
      "metadata": {
        "id": "m5GgKWOP4-3-",
        "colab": {
          "base_uri": "https://localhost:8080/"
        },
        "outputId": "bbe7d4ee-4244-4cea-8165-04df5fa01e34"
      },
      "execution_count": null,
      "outputs": [
        {
          "output_type": "stream",
          "name": "stdout",
          "text": [
            "Введите первое число 100\n",
            "Введите второе число 503\n",
            "497\n"
          ]
        }
      ]
    },
    {
      "cell_type": "code",
      "source": [
        "numbers = [i for i in range(int(input()),int(input())+1) if i % 7 == 0]\n",
        "match len(numbers):\n",
        "  case 0:\n",
        "    print(-1)\n",
        "  case _:\n",
        "    print(max(numbers))"
      ],
      "metadata": {
        "colab": {
          "base_uri": "https://localhost:8080/"
        },
        "id": "xPlLfifRprps",
        "outputId": "c1d70a2a-3247-47f5-a687-ae710cfec9c0"
      },
      "execution_count": null,
      "outputs": [
        {
          "output_type": "stream",
          "name": "stdout",
          "text": [
            "100\n",
            "500\n",
            "497\n"
          ]
        }
      ]
    },
    {
      "cell_type": "code",
      "source": [
        "a = int(input('Введите первое число '))\n",
        "b = int(input('Введите второе число '))\n",
        "# result = 7 * int(b/7)\n",
        "result = b//7 * 7\n",
        "if a < result or result > 6\n",
        "print(result)"
      ],
      "metadata": {
        "colab": {
          "base_uri": "https://localhost:8080/"
        },
        "id": "iwiNuzLwsqht",
        "outputId": "6f1860df-ef5f-4ecb-cc62-9b7e386b7085"
      },
      "execution_count": null,
      "outputs": [
        {
          "output_type": "stream",
          "name": "stdout",
          "text": [
            "Введите первое число 100\n",
            "Введите второе число 497\n",
            "497\n"
          ]
        }
      ]
    },
    {
      "cell_type": "markdown",
      "source": [
        "## Задача 5.1"
      ],
      "metadata": {
        "id": "_fJSnjQiXARO"
      }
    },
    {
      "cell_type": "markdown",
      "source": [
        "В цепочках ДНК символы «А» и «Т» дополняют друг друга, как «С» и «G». Нужно написать программу, которая получате на вход последовательность ДНК и на выходе отображает комлементарную ей.\n",
        "\n",
        "Пример ввода:\n",
        "\n",
        "GTAT\n",
        "\n",
        "Пример вывода:\n",
        "\n",
        "CATA"
      ],
      "metadata": {
        "id": "QY9qB4QYXLv6"
      }
    },
    {
      "cell_type": "code",
      "source": [
        "def vind_compl(s:str) -> str:\n",
        "  match s:\n",
        "    case \"G\":\n",
        "      return \"C\"\n",
        "    case \"C\":\n",
        "      return \"G\"\n",
        "    case \"A\":\n",
        "      return \"T\"\n",
        "    case \"T\":\n",
        "      return \"A\"\n",
        "    case _:\n",
        "      return \"error\"\n",
        "\n",
        "dna = input(\"Введи цепочку ДНК: \")\n",
        "dict_compl = {\"G\" : \"C\", \"C\" : \"G\", \"A\" : \"T\", \"T\" : \"A\"}\n",
        "dna_c = ''\n",
        "for symbol in dna:\n",
        "  # dna_c = f\"{dna_c}{vind_compl(symbol)}\"\n",
        "  dna_c =f\"{dna_c}{dict_compl[symbol]}\"\n",
        "print(dna_c)"
      ],
      "metadata": {
        "id": "l7G2bm-pW_sy",
        "colab": {
          "base_uri": "https://localhost:8080/"
        },
        "outputId": "fc7114d4-2dc8-4db4-abaf-b7d59c104d39"
      },
      "execution_count": null,
      "outputs": [
        {
          "output_type": "stream",
          "name": "stdout",
          "text": [
            "Введи цепочку ДНК GTAT\n",
            "CATA\n"
          ]
        }
      ]
    },
    {
      "cell_type": "markdown",
      "source": [
        "## Задача 5*"
      ],
      "metadata": {
        "id": "sTfEU3US_xIm"
      }
    },
    {
      "cell_type": "markdown",
      "source": [
        "По данному числу N распечатайте все целые значения степени двойки, не превосходящие N, в порядке возрастания.\n",
        "\n",
        "Пример ввода:\n",
        "\n",
        "50\n",
        "\n",
        "Пример вывода:\n",
        "\n",
        "1 2 4 8 16 32"
      ],
      "metadata": {
        "id": "vxNJBr1v492g"
      }
    },
    {
      "cell_type": "code",
      "source": [
        "n = int(input('Введите число '))\n",
        "print(*[2 ** i for i in range(n) if 2 ** i <= n])"
      ],
      "metadata": {
        "colab": {
          "base_uri": "https://localhost:8080/"
        },
        "id": "c5idfHczOqQ2",
        "outputId": "bf330d98-edf4-47b3-b3fa-1e417a8973bd"
      },
      "execution_count": 24,
      "outputs": [
        {
          "output_type": "stream",
          "name": "stdout",
          "text": [
            "Введите число 50\n",
            "1 2 4 8 16 32\n"
          ]
        }
      ]
    },
    {
      "cell_type": "code",
      "source": [
        "def parse_int() -> int:\n",
        "  return int(input())\n",
        "\n",
        "n = parse_int()\n",
        "result = \"\"\n",
        "k = 0\n",
        "while 2 ** k <= n:\n",
        "  result = f\"{result}{2 ** k} \"\n",
        "  k += 1\n",
        "print(result[:-1])"
      ],
      "metadata": {
        "id": "K2fK8sSd5EWt",
        "colab": {
          "base_uri": "https://localhost:8080/"
        },
        "outputId": "365a56aa-e8a9-4eba-9000-b45653e3d98b"
      },
      "execution_count": 21,
      "outputs": [
        {
          "output_type": "stream",
          "name": "stdout",
          "text": [
            "50\n",
            "1 2 4 8 16 32\n"
          ]
        }
      ]
    },
    {
      "cell_type": "markdown",
      "source": [
        "## Задача 6"
      ],
      "metadata": {
        "id": "98yOKs5J_0CS"
      }
    },
    {
      "cell_type": "markdown",
      "source": [
        "На ввод подаются N целых чисел, их нужно сохранить в массив или список. Затем вывести макимальный элемент.\n",
        "\n",
        "Пример ввода:\n",
        "\n",
        "5\n",
        "\n",
        "2\n",
        "\n",
        "3\n",
        "\n",
        "56\n",
        "\n",
        "45\n",
        "\n",
        "21\n",
        "\n",
        "Пример вывода:\n",
        "\n",
        "56"
      ],
      "metadata": {
        "id": "dG-51gXo5ExU"
      }
    },
    {
      "cell_type": "code",
      "source": [
        "n = int(input())\n",
        "numbers = [int(input()) for i in range(n)]\n",
        "print(max(numbers))"
      ],
      "metadata": {
        "id": "j1SpXB-A55_e",
        "colab": {
          "base_uri": "https://localhost:8080/"
        },
        "outputId": "4656606f-f89f-45aa-b190-c2dff34e0019"
      },
      "execution_count": null,
      "outputs": [
        {
          "output_type": "stream",
          "name": "stdout",
          "text": [
            "5\n",
            "2\n",
            "3\n",
            "56\n",
            "45\n",
            "21\n",
            "56\n"
          ]
        }
      ]
    },
    {
      "cell_type": "markdown",
      "source": [
        "## Задача 6*"
      ],
      "metadata": {
        "id": "04QTS9jC_2Dc"
      }
    },
    {
      "cell_type": "markdown",
      "source": [
        "Сначала на вход поступает длина последовательности N. Затем элементы последовательности – целые числа. Напишите программу, которая подсчитывает количество положительных чисел среди элементов последовательности.\n",
        "\n",
        "Пример ввода:\n",
        "\n",
        "5\n",
        "\n",
        "1\n",
        "\n",
        "2\n",
        "\n",
        "3\n",
        "\n",
        "-1\n",
        "\n",
        "-4\n",
        "\n",
        "Пример вывода:\n",
        "\n",
        "3"
      ],
      "metadata": {
        "id": "Ie0AhvRC56dM"
      }
    },
    {
      "cell_type": "code",
      "source": [
        "n = int(input())\n",
        "print(len([_ for i in range(n) if int(input()) > 0]))"
      ],
      "metadata": {
        "colab": {
          "base_uri": "https://localhost:8080/"
        },
        "id": "dwBEZFCIQfpJ",
        "outputId": "1e2c3f41-3491-4d94-ef64-3ad61e403a22"
      },
      "execution_count": 27,
      "outputs": [
        {
          "output_type": "stream",
          "name": "stdout",
          "text": [
            "5\n",
            "1\n",
            "2\n",
            "3\n",
            "-1\n",
            "-4\n",
            "3\n"
          ]
        }
      ]
    },
    {
      "cell_type": "code",
      "source": [
        "n = int(input())\n",
        "numbers = [int(input()) for i in range(n)]\n",
        "count = sum(True for i in numbers if i > 0)\n",
        "print(count)"
      ],
      "metadata": {
        "id": "NwrR_oqa6s2m",
        "colab": {
          "base_uri": "https://localhost:8080/"
        },
        "outputId": "0fd9b01d-bfb4-44a7-c16f-b526edf0fb20"
      },
      "execution_count": null,
      "outputs": [
        {
          "output_type": "stream",
          "name": "stdout",
          "text": [
            "5\n",
            "1\n",
            "2\n",
            "3\n",
            "-1\n",
            "-4\n",
            "3\n"
          ]
        }
      ]
    },
    {
      "cell_type": "markdown",
      "source": [
        "## Задача 7"
      ],
      "metadata": {
        "id": "q1iFiCqv_4y-"
      }
    },
    {
      "cell_type": "markdown",
      "source": [
        "Напишите программу, которая в последовательности чисел находит сумму двузначных чисел, кратных 8. Программа в первой строке получает на вход число n - количество чисел в последовательности, во второй строке -- n чисел, входящих в данную последовательность.\n",
        "\n",
        "Пример ввода:\n",
        "\n",
        "5\n",
        "\n",
        "38 24 800 8 16\n",
        "\n",
        "Пример вывода:\n",
        "\n",
        "40"
      ],
      "metadata": {
        "id": "UHsancvE6tSc"
      }
    },
    {
      "cell_type": "code",
      "source": [
        "n = int(input())\n",
        "numbers = list(map(int, input().split(' ')))\n",
        "# numbers = tuple(map(int, input().split(' '))) # КОРТЕЖИ - неизменяемые массивы\n",
        "result = sum(num for num in numbers if 10 <= num <= 99 and num % 8 == 0)\n",
        "print(result)"
      ],
      "metadata": {
        "id": "qHo_o0hA7AM6",
        "colab": {
          "base_uri": "https://localhost:8080/"
        },
        "outputId": "525766eb-11be-4bbd-ead7-c90badfcc7e4"
      },
      "execution_count": 3,
      "outputs": [
        {
          "output_type": "stream",
          "name": "stdout",
          "text": [
            "5\n",
            "38 24 800 8 16\n",
            "40\n"
          ]
        }
      ]
    },
    {
      "cell_type": "code",
      "source": [
        "def my_filter(elem:str)->bool:\n",
        "  return 9 < elem < 100 and elem % 8 == 0\n",
        "\n",
        "n = int(input())\n",
        "nums = list(map(int, input().split(' ')))\n",
        "filtered_nums = list(filter(my_filter,nums))\n",
        "print(sum(filtered_nums))"
      ],
      "metadata": {
        "colab": {
          "base_uri": "https://localhost:8080/"
        },
        "id": "3hpsH3PLF8h9",
        "outputId": "6b66b67a-16f9-4313-8de2-79f0637ba661"
      },
      "execution_count": 4,
      "outputs": [
        {
          "output_type": "stream",
          "name": "stdout",
          "text": [
            "5\n",
            "38 24 800 8 16\n",
            "40\n"
          ]
        }
      ]
    },
    {
      "cell_type": "markdown",
      "source": [
        "## Задача 7*"
      ],
      "metadata": {
        "id": "2tsMklDMAFIH"
      }
    },
    {
      "cell_type": "markdown",
      "source": [
        "Последовательность состоит из натуральных чисел и завершается числом 0. Определите количество элементов этой последовательности, которые равны ее наибольшему элементу.\n",
        "\n",
        "Пример ввода:\n",
        "\n",
        "1\n",
        "\n",
        "3\n",
        "\n",
        "3\n",
        "\n",
        "1\n",
        "\n",
        "0\n",
        "\n",
        "Пример вывода:\n",
        "\n",
        "2"
      ],
      "metadata": {
        "id": "XN042PJ87Au9"
      }
    },
    {
      "cell_type": "code",
      "source": [
        "max_el = int(input('Введите число '))\n",
        "count = 1\n",
        "tmp = max_el\n",
        "while tmp != 0:\n",
        "  tmp = int(input('Введите число '))\n",
        "  if tmp == max_el:\n",
        "    count +=1\n",
        "  elif tmp > max_el:\n",
        "    count = 1\n",
        "    max_el = tmp\n",
        "\n",
        "print(count)"
      ],
      "metadata": {
        "id": "iFHEClGd7X9v",
        "colab": {
          "base_uri": "https://localhost:8080/"
        },
        "outputId": "3c4ba647-2662-4f28-99e6-8112b600d14a"
      },
      "execution_count": null,
      "outputs": [
        {
          "output_type": "stream",
          "name": "stdout",
          "text": [
            "Введите число 1\n",
            "Введите число 3\n",
            "Введите число 3\n",
            "Введите число 1\n",
            "Введите число 0\n",
            "2\n"
          ]
        }
      ]
    },
    {
      "cell_type": "markdown",
      "source": [
        "## Задача 8"
      ],
      "metadata": {
        "id": "SJinrQTJAHTy"
      }
    },
    {
      "cell_type": "markdown",
      "source": [
        "Даны два числа. Определить цифры, входящие в запись как первого, так и второго числа. Программа должна вывести цифры, которые имеются в обоих числах, через пробел. Цифры выводятся в порядке их нахождения в первом числе.\n",
        "\n",
        "Пример ввода:\n",
        "\n",
        "564 8954\n",
        "\n",
        "Пример вывода:\n",
        "5 4"
      ],
      "metadata": {
        "id": "SxUyoHLd7Ydd"
      }
    },
    {
      "cell_type": "code",
      "source": [
        "mas = list(input().split(' '))\n",
        "duplicate_numbers = ''\n",
        "a = mas[0]\n",
        "b = mas[1]\n",
        "for i in a:\n",
        "  for j in b:\n",
        "    if i == j:\n",
        "      duplicate_numbers = f\"{duplicate_numbers}{i} \"\n",
        "      a = a.replace(i, '')\n",
        "      b = b.replace(j, '')\n",
        "\n",
        "print(duplicate_numbers[:-1])"
      ],
      "metadata": {
        "id": "Axy_tCq-7hEa",
        "colab": {
          "base_uri": "https://localhost:8080/"
        },
        "outputId": "1f55329a-2d97-4044-f08b-8e144436b657"
      },
      "execution_count": null,
      "outputs": [
        {
          "output_type": "stream",
          "name": "stdout",
          "text": [
            "564 8954\n",
            "5 4\n",
            "6 89\n"
          ]
        }
      ]
    },
    {
      "cell_type": "markdown",
      "source": [
        "## Задача 8*"
      ],
      "metadata": {
        "id": "MTfDP5roK6Pw"
      }
    },
    {
      "cell_type": "markdown",
      "source": [
        "Напишите функцию my_sort, которая принимает двумерный массив n x n, а возвращает  элементы массива, расположенные от самых крайних элементов до среднего элемента, таким образом, чтобы происходило перемещение по часовой стрелке.\n",
        "\n",
        "Тоесть функция должна преобразовывать array = [\n",
        "  [1,2,3],\n",
        "  [4,5,6],\n",
        "  [7,8,9]\n",
        "]\n",
        "\n",
        "my_sort(array) #=> [1,2,3,6,9,8,7,4,5]\n",
        "\n",
        "Еще один пример работы функции:\n",
        "\n",
        "array = [\n",
        "  [1,2,3],\n",
        "         [8,9,4],\n",
        "         [7,6,5]\n",
        "         ]\n",
        "my_sort(array) #=> [1,2,3,4,5,6,7,8,9]\n",
        "\n",
        "![image.png](data:image/png;base64,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)"
      ],
      "metadata": {
        "id": "NHj0BPXVYw31"
      }
    },
    {
      "cell_type": "code",
      "source": [
        "def fill_2d_array():\n",
        "    # Вводим размеры массива\n",
        "    rows = int(input(\"Введите количество строк: \"))\n",
        "    cols = int(input(\"Введите количество столбцов: \"))\n",
        "\n",
        "    # Создаем пустой двумерный массив\n",
        "    matrix = []\n",
        "\n",
        "    print(\"Введите элементы массива построчно, разделяя их пробелами:\")\n",
        "    for i in range(rows):\n",
        "        # Вводим строку и разбиваем её на элементы\n",
        "        row = list(map(int, input().split()))\n",
        "        # Проверяем, что количество введенных элементов соответствует количеству столбцов\n",
        "        if len(row) != cols:\n",
        "            print(f\"Ошибка: ожидается {cols} элементов, но введено {len(row)}.\")\n",
        "            return None\n",
        "        matrix.append(row)\n",
        "\n",
        "    return matrix"
      ],
      "metadata": {
        "id": "PMpJAnvBVWrN"
      },
      "execution_count": null,
      "outputs": []
    },
    {
      "cell_type": "code",
      "source": [
        "def spiral_order(array2 : list[list[int]]) -> list[int]:\n",
        "    result = []\n",
        "    if not array2:\n",
        "        return result\n",
        "\n",
        "    left, right = 0, len(array2[0]) - 1\n",
        "    top, bottom = 0, len(array2) - 1\n",
        "\n",
        "\n",
        "    while top <= bottom and left <= right:\n",
        "        # Проходим по верхней строке слева направо\n",
        "        for i in range(left, right + 1):\n",
        "            result.append(array2[top][i])\n",
        "        top += 1\n",
        "\n",
        "        # Проходим по правому столбцу сверху вниз\n",
        "        for i in range(top, bottom + 1):\n",
        "            result.append(array2[i][right])\n",
        "        right -= 1\n",
        "\n",
        "        if top <= bottom:\n",
        "            # Проходим по нижней строке справа налево\n",
        "            for i in range(right, left - 1, -1):\n",
        "                result.append(array2[bottom][i])\n",
        "            bottom -= 1\n",
        "\n",
        "        if left <= right:\n",
        "            # Проходим по левому столбцу снизу вверх\n",
        "            for i in range(bottom, top - 1, -1):\n",
        "                result.append(array2[i][left])\n",
        "            left += 1\n",
        "\n",
        "    return result\n",
        "\n",
        "# Пример использования\n",
        "# array2 = [\n",
        "#     [1, 2, 3],\n",
        "#     [4, 5, 6],\n",
        "#     [7, 8, 9]\n",
        "# ]\n",
        "\n",
        "array_chek = fill_2d_array()\n",
        "\n",
        "print(spiral_order(array_chek))  # Вывод: [1, 2, 3, 6, 9, 8, 7, 4, 5]\n"
      ],
      "metadata": {
        "colab": {
          "base_uri": "https://localhost:8080/"
        },
        "id": "v2Vn2GZ_9Dxv",
        "outputId": "c13dbd03-24fc-40c0-f33e-ea37b385009e"
      },
      "execution_count": null,
      "outputs": [
        {
          "output_type": "stream",
          "name": "stdout",
          "text": [
            "Введите количество строк: 3\n",
            "Введите количество столбцов: 3\n",
            "Введите элементы массива построчно, разделяя их пробелами:\n",
            "1 2 3\n",
            "4 5 6\n",
            "7 8 9\n",
            "[1, 2, 3, 6, 9, 8, 7, 4, 5]\n"
          ]
        }
      ]
    },
    {
      "cell_type": "markdown",
      "source": [
        "## Задача 9"
      ],
      "metadata": {
        "id": "368xbT9-SjmJ"
      }
    },
    {
      "cell_type": "markdown",
      "source": [
        "Создайте класс Point. У этого класса должны быть:\n",
        "\n",
        "* Метод set_coordinates, который принимает координаты точки на плоскости и сохраняет их в экземпляр класса в атрибуты x и y.\n",
        "\n",
        "* Метод get_distance, который обязательно принимает экземпляр класса Point и возвращает расстояние между двумя точками по теореме Пифагора. В случае, если в данный метод передается не экземпляр класса Point, необходимо вывести сообщение \"Передана не точка\".\n"
      ],
      "metadata": {
        "id": "S5C0xLyQK7Ta"
      }
    },
    {
      "cell_type": "code",
      "source": [
        "import math\n",
        "\n",
        "class Point:\n",
        "  x : int\n",
        "  y : int\n",
        "  def set_coordinates(self, x : int, y : int) -> None:\n",
        "    self.x = x # self - обращение к методам класса\n",
        "    self.y = y\n",
        "  def get_distance(self, otherPoint) -> float:\n",
        "    if isinstance(otherPoint, Point):\n",
        "      point1 = (self.x, self.y)\n",
        "      point2 = (otherPoint.x, otherPoint.y)\n",
        "      return math.dist(point1, point2) # функцию можно было заменить на расписанный алгоритм\n",
        "    else:\n",
        "      return \"Передана не точка\""
      ],
      "metadata": {
        "id": "3Jm7ZObLZgXz"
      },
      "execution_count": null,
      "outputs": []
    },
    {
      "cell_type": "code",
      "source": [
        "p1 = Point()\n",
        "p2 = Point()\n",
        "p1.set_coordinates(1, 2)\n",
        "p2.set_coordinates(4, 6)\n",
        "d = p1.get_distance(p2) # вернёт 5.0\n",
        "print(d)\n",
        "p1.get_distance(10) # Распечатает \"Передана не точка\""
      ],
      "metadata": {
        "id": "3yPDvAVgLm2C",
        "colab": {
          "base_uri": "https://localhost:8080/",
          "height": 54
        },
        "outputId": "c0b59f6b-7737-4cb5-a1fc-b2bdb4a4bb7c"
      },
      "execution_count": null,
      "outputs": [
        {
          "output_type": "stream",
          "name": "stdout",
          "text": [
            "5.0\n"
          ]
        },
        {
          "output_type": "execute_result",
          "data": {
            "text/plain": [
              "'Передана не точка'"
            ],
            "application/vnd.google.colaboratory.intrinsic+json": {
              "type": "string"
            }
          },
          "metadata": {},
          "execution_count": 12
        }
      ]
    },
    {
      "cell_type": "markdown",
      "source": [
        "## Задача 9.1"
      ],
      "metadata": {
        "id": "y1PMsHKjS2fA"
      }
    },
    {
      "cell_type": "markdown",
      "source": [
        "Создайте класс Person, у которого есть:\n",
        "\n",
        "* Конструктор, принимающий имя, фамилию и возраст. Их необходимо сохранить в поля экземпляра класса first_name, last_name, age.\n",
        "\n",
        "* Метод full_name, который возвращает строку в виде \"<Фамилия> <Имя>\".\n",
        "\n",
        "* Метод is_adult, который возвращает True, если человек достиг 18 лет и False в противном случае."
      ],
      "metadata": {
        "id": "Gpcu8dOOLnWY"
      }
    },
    {
      "cell_type": "code",
      "source": [
        "class Person:\n",
        "  __first_name: str\n",
        "  __last_name: str\n",
        "  __age: int\n",
        "\n",
        "  def __init__ (self, first_name: str, last_name: str, age: int) -> None:\n",
        "    self.__first_name = first_name\n",
        "    self.__last_name = last_name\n",
        "    self.__age = age\n",
        "\n",
        "  def full_name(self) -> str:\n",
        "    return self.__last_name + \" \" + self.__first_name\n",
        "    # return f\"{self.first_name} {self.last_name}\"\n",
        "\n",
        "  def is_adult(self) -> bool:\n",
        "    return self.__age >= 18"
      ],
      "metadata": {
        "id": "0fwZkpAZM8wE"
      },
      "execution_count": null,
      "outputs": []
    },
    {
      "cell_type": "code",
      "source": [
        "p = Person(\"Иван\", \"Петров\", 18)\n",
        "p.full_name()\n",
        "p.is_adult()"
      ],
      "metadata": {
        "id": "ge9E3e0KM9Sd",
        "colab": {
          "base_uri": "https://localhost:8080/"
        },
        "outputId": "410dba2c-bae9-46bd-d3b8-d10563c8a6da"
      },
      "execution_count": null,
      "outputs": [
        {
          "output_type": "execute_result",
          "data": {
            "text/plain": [
              "False"
            ]
          },
          "metadata": {},
          "execution_count": 8
        }
      ]
    },
    {
      "cell_type": "markdown",
      "source": [
        "## Задача 9*"
      ],
      "metadata": {
        "id": "yA9rMSr-THGj"
      }
    },
    {
      "cell_type": "markdown",
      "source": [
        "Создайте класс Laptop, у которого есть:\n",
        "* Конструктор, принимающий 3 аргумента: бренд, модель и цену ноутбука. На основании этих аргументов нужно для экземпляра создать атрибуты brand, model, price и также атрибут laptop_name  — строковое значение, следующего вида: « _brand_ _model_>»\n",
        "* Метод laptop_name возврашающий аналогичное значение поля.\n"
      ],
      "metadata": {
        "id": "4coWReW1M91A"
      }
    },
    {
      "cell_type": "code",
      "source": [
        "class Laptop:\n",
        "  brand: str\n",
        "  model: str\n",
        "  price: int\n",
        "  __laptop_name: str\n",
        "\n",
        "  def __init__(self, brand: str, model: str, price: int):\n",
        "    self.brand = brand\n",
        "    self.model = model\n",
        "    self.price = price\n",
        "    self.__laptop_name = brand + \" \" + model\n",
        "\n",
        "  def laptop_name(self) -> str:\n",
        "    return  self.__laptop_name\n",
        "\n",
        "\n",
        "hp = Laptop('hp', '15-bw0xx', 57000)\n",
        "print(hp.price) # выводит 57000\n",
        "print(hp.laptop_name()) # выводит \"hp 15-bw0xx\""
      ],
      "metadata": {
        "id": "epyts4x4TQLM",
        "colab": {
          "base_uri": "https://localhost:8080/"
        },
        "outputId": "defb7d50-6bed-4cf1-823b-45eae71b5a72"
      },
      "execution_count": null,
      "outputs": [
        {
          "output_type": "stream",
          "name": "stdout",
          "text": [
            "57000\n",
            "hp 15-bw0xx\n"
          ]
        }
      ]
    },
    {
      "cell_type": "markdown",
      "source": [
        "# Задача 10\n",
        "\n",
        "\n",
        "Нужно описать структуры для платформы электронного обучения. В ней есть администраторы системы, преподаватели курсов и студенты, а также группы учебные и домашние задания."
      ],
      "metadata": {
        "id": "ayg2RESlht0t"
      }
    },
    {
      "cell_type": "code",
      "source": [
        "from enum import Enum\n",
        "\n",
        "class Role(Enum):\n",
        "  Admin = 1\n",
        "  Teacher = 2\n",
        "  Student = 3\n",
        "\n",
        "\n",
        "\n",
        "class Homework:\n",
        "  Tasklist : list[str]\n",
        "\n",
        "class User:\n",
        "  __role : Role\n",
        "  last_name : str\n",
        "  first_name : str\n",
        "  login : str\n",
        "  __password_hash : int\n",
        "  Homeworks : list[Homework] = []\n",
        "\n",
        "  def __init__(self, last_name, first_name, login, password, role):\n",
        "    self.last_name = last_name\n",
        "    self.first_name = first_name\n",
        "    self.login = login\n",
        "    self.__password_hash = password\n",
        "    self.__role = role\n",
        "\n",
        "  def is_admin(self) -> bool:\n",
        "      return self.__role == Role.Admin\n",
        "\n",
        "  def is_teacher(self) -> bool:\n",
        "      return self.__role == Role.Teacher\n",
        "\n",
        "  def is_student(self) -> bool:\n",
        "      return self.__role == Role.Student\n",
        "\n",
        "class Group:\n",
        "  ID : int\n",
        "  members : list[User]"
      ],
      "metadata": {
        "id": "bfZY6QvhTbeg"
      },
      "execution_count": null,
      "outputs": []
    },
    {
      "cell_type": "code",
      "source": [
        "Stud1 = User(\"Petrov\", \"Ivan\", \"pein\", 1234, Role.Student)\n",
        "print(Stud1.is_student())"
      ],
      "metadata": {
        "colab": {
          "base_uri": "https://localhost:8080/"
        },
        "id": "Zcgyx2TDoJEz",
        "outputId": "4cfa4f10-799d-4961-a372-d9681d461c67"
      },
      "execution_count": null,
      "outputs": [
        {
          "output_type": "stream",
          "name": "stdout",
          "text": [
            "True\n"
          ]
        }
      ]
    },
    {
      "cell_type": "markdown",
      "source": [
        "# Задача 10*\n",
        "\n",
        "Нужно создать функционал для упрошенного описания экономических отношений между работодателем, работником и компанией. Нужно реализовать классы Director, Employee, Company, Promise.\n",
        "\n",
        "У компании должен быть метод, позволяющей получить прибыль условных единиц  (flot). У Компании всегда есть только один Director, количество  Employee не ограниченно. Также у компании должен быть метод позволяющий начислить зарплату всем ее работникам, согласно Promise каждого сотрудника компании.\n",
        "\n",
        "У всех работников компании есть контракт с компанией о размере его заработной плате – Promise, а также есть имена, фамилии и номера СНИЛС(Id)\n",
        "\n",
        "\n",
        "Promise - содержит в себе СНИЛС(Id) работника, размер его зарабтной платы, и информацию о том, была ли начисленна плата сотруднику\n",
        "\n",
        "\n",
        "set_profit - метод, устанваливающий прибыль всей компании за некоторый промежуток времен.\n",
        "\n",
        "fulfill_promise – метод, начисялющий всем заработную плату согласно персональному Promise каждого работника, если это возможно. Возвращает булевое значение\n",
        "\n",
        "\n",
        "_Замечание:_ метод set_profit устанавливает прибыль для комании. Компания в свою очередь, пытается выплатить заработную плату __всем__ сотрудникам компании методом fulfill_promise. Если баланса компании хватает на выплаты всем участникам компании, то fulfill_promise возвращает true, в противном случаее false\n",
        "\n",
        "Пример кода, который должен работать\n",
        "\n",
        "```python\n",
        "vk = Company(balance=50)\n",
        "vk.create_director(\n",
        "  first_name = \"Владимир\",\n",
        "  second_name = \"Кириенко\",\n",
        "  Id = 1,\n",
        "  salary = 15\n",
        "  )\n",
        "\n",
        "vk.create_employee(\n",
        "  first_name = \"Елена\",\n",
        "  second_name = \"Иванова\",\n",
        "  Id = 2,\n",
        "  salary = 8\n",
        ")\n",
        "\n",
        "vk.create_employee(\n",
        "  first_name = \"Виктор\",\n",
        "  second_name = \"Кузнецов\",\n",
        "  Id = 3,\n",
        "  salary = 6\n",
        ")\n",
        "\n",
        "vk.set_profit(145.12)\n",
        "vk.fulfill_promise()\n",
        "\n",
        "director = vk.director()\n",
        "director.check_promises() # true\n",
        "\n",
        "vk.set_profit(-200)\n",
        "vk.fulfill_promise()\n",
        "\n",
        "director.check_promises() # false\n",
        "\n",
        "```"
      ],
      "metadata": {
        "id": "aN-Kr-3xhzQC"
      }
    },
    {
      "cell_type": "code",
      "source": [
        "class Promise:\n",
        "  Id: int\n",
        "  salary: float\n",
        "  check_promises: bool\n",
        "\n",
        "  def __init__(self, Id: int, salary: float):\n",
        "    self.Id = Id\n",
        "    self.salary = salary\n",
        "    self.check_promises = True\n",
        "\n",
        "\n",
        "\n",
        "class Employee:\n",
        "  first_name: str\n",
        "  second_name: str\n",
        "  _promise: Promise\n",
        "\n",
        "  def __init__(self, first_name: str, second_name: str, Id: int, salary: float):\n",
        "    self.first_name = first_name\n",
        "    self.second_name = second_name\n",
        "    self._promise = Promise(Id, salary)\n",
        "\n",
        "  def __str__(self):\n",
        "    return f\"Работник: {self.second_name} {self.first_name}\"\n",
        "\n",
        "  def get_salary(self):\n",
        "    return self._promise.salary\n",
        "\n",
        "  def set_salary(self, check_promises):\n",
        "    self._promise.check_promises = check_promises\n",
        "\n",
        "\n",
        "\n",
        "class Director(Employee):\n",
        "  def check_promises(self) -> bool:\n",
        "      return self._promise.check_promises\n",
        "\n",
        "  def change_director(self, first_name: str, second_name: str, Id: int, salary: float): # Смена директора (старый ушёл)\n",
        "      self.first_name = first_name\n",
        "      self.second_name = second_name\n",
        "      self._promise = Promise(Id, salary)\n",
        "\n",
        "  def __str__(self):\n",
        "      return f\"Директор: {self.second_name} {self.first_name}\"\n",
        "\n",
        "\n",
        "\n",
        "class Company:\n",
        "  balance: float\n",
        "  _employees: list # dict\n",
        "  _director: Director\n",
        "  __profit: float\n",
        "\n",
        "  def __init__(self, balance=0):\n",
        "    self.balance = balance\n",
        "    self._employees = []\n",
        "\n",
        "  def create_employee(self, first_name: str, second_name: str, Id: int, salary: float):\n",
        "    self._employees.append(Employee(first_name, second_name, Id, salary))\n",
        "\n",
        "  def create_director(self, first_name: str, second_name: str, Id: int, salary: float): # Один директор (назначенный компанией)\n",
        "    self._director = Director(first_name, second_name, Id, salary)\n",
        "\n",
        "  def director(self):\n",
        "    return self._director\n",
        "\n",
        "  def set_profit(self, profit):\n",
        "    self.balance += profit\n",
        "\n",
        "  def fulfill_promise(self) -> bool:\n",
        "    # return sum(self._employees[i].get_salary() for i in range(len(self._employees))) + self._director.get_salary() <= self.balance\n",
        "    salaries = sum(self._employees[i].get_salary() for i in range(len(self._employees))) + self._director.get_salary()\n",
        "    if salaries > self.balance:\n",
        "      if self._director.get_salary() > self.balance:\n",
        "        self._director.set_salary(False)\n",
        "      else:\n",
        "        self.balance -= self._director.get_salary()\n",
        "      for i in range(len(self._employees)):\n",
        "        if self._employees[i].get_salary() > self.balance:\n",
        "          self._employees[i].set_salary(False)\n",
        "        else:\n",
        "          self.balance -= self._employees[i].get_salary()\n",
        "      return False\n",
        "    else:\n",
        "      return True\n",
        "\n",
        "\n"
      ],
      "metadata": {
        "id": "tllsilF78be2"
      },
      "execution_count": 1,
      "outputs": []
    },
    {
      "cell_type": "code",
      "source": [
        "vk = Company(balance=50)\n",
        "vk.create_director(\n",
        "  first_name = \"Владимир\",\n",
        "  second_name = \"Кириенко\",\n",
        "  Id = 1,\n",
        "  salary = 15\n",
        "  )\n",
        "\n",
        "vk.create_employee(\n",
        "  first_name = \"Елена\",\n",
        "  second_name = \"Иванова\",\n",
        "  Id = 2,\n",
        "  salary = 8\n",
        ")\n",
        "\n",
        "vk.create_employee(\n",
        "  first_name = \"Виктор\",\n",
        "  second_name = \"Кузнецов\",\n",
        "  Id = 3,\n",
        "  salary = 6\n",
        ")\n",
        "\n",
        "vk.set_profit(145.12)\n",
        "vk.fulfill_promise()\n",
        "\n",
        "director = vk.director()\n",
        "director.check_promises() # true\n",
        "\n",
        "vk.set_profit(-200)\n",
        "vk.fulfill_promise()\n",
        "\n",
        "director.check_promises() # false\n",
        "\n"
      ],
      "metadata": {
        "id": "E426RXgR6Djx",
        "colab": {
          "base_uri": "https://localhost:8080/"
        },
        "outputId": "29a56f98-7753-432a-a68d-d11ee68e98e3"
      },
      "execution_count": 4,
      "outputs": [
        {
          "output_type": "execute_result",
          "data": {
            "text/plain": [
              "False"
            ]
          },
          "metadata": {},
          "execution_count": 4
        }
      ]
    }
  ]
}